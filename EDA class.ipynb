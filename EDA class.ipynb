{
 "cells": [
  {
   "cell_type": "code",
   "execution_count": 54,
   "metadata": {},
   "outputs": [],
   "source": [
    "class EDA:\n",
    "    \n",
    "    def __init__(self):\n",
    "        import pandas as pd\n",
    "        import matplotlib.pyplot as plt\n",
    "        import seaborn as sns\n",
    "        import numpy as np\n",
    "        self._np = np\n",
    "        self._pd = pd\n",
    "        self._sns = sns\n",
    "        self._plt = plt\n",
    "        \n",
    "    def scatter_plot_2_var(self,x,y,category=None):\n",
    "        \"\"\" This takes two variables - both continuous and draws a scatter-plot. If\n",
    "        you want a category to be added, you can do that by defining that as 3rd var.\n",
    "        \"\"\"\n",
    "        self._sns.set(font_scale=1.5)\n",
    "        self._sns.scatterplot(x=x,y=y,hue=category);\n",
    "        return None\n",
    "    \n",
    "    def category_value_distribution(self,pandas_DataFrame):\n",
    "        \"\"\"Objective of this function is to check to what extent the \n",
    "        data is un-balanced. You may choose to remove some categories and do stratified\n",
    "        split of train-test based on that\"\"\"\n",
    "        df = pandas_DataFrame\n",
    "        flds = {}\n",
    "        \n",
    "        for column,content in df.items():\n",
    "            D1={}\n",
    "            \n",
    "            for v in self._np.unique(df[column]): #pick all values only once\n",
    "                if len(np.unique(df[column])) > 10:\n",
    "                    print(f\"Field {column} has more than 10 values. Remove it and check.\")\n",
    "                    break\n",
    "                else:\n",
    "                    D1[v] = len(df[column][df[column] == v]) #build the dict by slicing by each value\n",
    "            \n",
    "                \n",
    "            flds[column]=D1 #Feed this dictionary to another \n",
    "                \n",
    "        return flds\n",
    "    \n",
    "    def scatterplot_matrix(self,df,category=None):\n",
    "        \"Category should be one of the column names of the dataframe which is being fed\"\n",
    "        \n",
    "        F = 0\n",
    "        for column,content in df.items():\n",
    "            if len(np.unique(content)) < 10 and column != category:\n",
    "                print(f\"Column {column} has less than 10 values. Remove it and check\")\n",
    "                F = 1\n",
    "                break\n",
    "                \n",
    "        if F == 0:\n",
    "            self._sns.pairplot(df,hue=category,diag_kind='kde');\n",
    "        else:\n",
    "            print(\"Too less value to check in scatter-plot\")\n",
    "            \n",
    "        return None\n",
    "        \n",
    "    def line_plot(self,*x):\n",
    "        \"\"\" WORK-IN-PROGRESS This accepts a tuple of pandas series, has to be given\n",
    "        separately like df['A'],df['B']... etc. The Dataframe as a whole is not\n",
    "        accepted yet\"\"\"\n",
    "        n1 = len(x)\n",
    "        nrows = round(n1/2) # \n",
    "        self._sns.set(font_scale=1.5)\n",
    "        \n",
    "        if nrows == 0:\n",
    "            self._plt.plot(x[0])\n",
    "            self._plt.ylabel(x[0].name)\n",
    "        \n",
    "        elif nrows == 1:\n",
    "            fig,ax1 = self._plt.subplots(nrows=1, ncols=2,figsize=(12,4))\n",
    "            ax1[0].plot(x[0])\n",
    "            ax1[0].set(ylabel=x[0].name)\n",
    "            \n",
    "            ax1[1].plot(x[1])\n",
    "            ax1[1].set(ylabel=x[1].name)\n",
    "            \n",
    "        else:\n",
    "            fig,ax = self._plt.subplots(nrows=nrows, ncols=2,figsize=(12,nrows*4))\n",
    "\n",
    "            for i,pdseries in enumerate(x):\n",
    "                p1 = i//2\n",
    "                p2 = i%2\n",
    "                ax[p1,p2].plot(pdseries.values)\n",
    "                ax[p1,p2].set(ylabel=pdseries.name)\n",
    "            self._plt.show()"
   ]
  },
  {
   "cell_type": "code",
   "execution_count": 55,
   "metadata": {},
   "outputs": [],
   "source": [
    "eda = EDA()"
   ]
  },
  {
   "cell_type": "code",
   "execution_count": 2,
   "metadata": {},
   "outputs": [],
   "source": [
    "import numpy as np"
   ]
  },
  {
   "cell_type": "code",
   "execution_count": 59,
   "metadata": {},
   "outputs": [
    {
     "data": {
      "image/png": "[encoded data removed]",
      "text/plain": [
       "<Figure size 432x288 with 1 Axes>"
      ]
     },
     "metadata": {},
     "output_type": "display_data"
    }
   ],
   "source": [
    "np.random.seed(10)\n",
    "x = np.arange(10)\n",
    "y = 3*x +np.random.randint(1,4,10)\n",
    "z = np.tanh(x) + np.random.rand(10)/10\n",
    "eda.scatter_plot_2_var(x,y)"
   ]
  },
  {
   "cell_type": "code",
   "execution_count": 18,
   "metadata": {},
   "outputs": [],
   "source": [
    "import pandas as pd\n",
    "D = pd.DataFrame({'x':x,'y':y})"
   ]
  },
  {
   "cell_type": "code",
   "execution_count": 19,
   "metadata": {},
   "outputs": [
    {
     "data": {
      "image/png": "[encoded data removed]",
      "text/plain": [
       "<Figure size 864x288 with 2 Axes>"
      ]
     },
     "metadata": {},
     "output_type": "display_data"
    }
   ],
   "source": [
    "eda.line_plot(D.iloc[:,0],D.iloc[:,1])"
   ]
  },
  {
   "cell_type": "code",
   "execution_count": 48,
   "metadata": {},
   "outputs": [
    {
     "data": {
      "text/html": [
       "<div>\n",
       "<style scoped>\n",
       "    .dataframe tbody tr th:only-of-type {\n",
       "        vertical-align: middle;\n",
       "    }\n",
       "\n",
       "    .dataframe tbody tr th {\n",
       "        vertical-align: top;\n",
       "    }\n",
       "\n",
       "    .dataframe thead th {\n",
       "        text-align: right;\n",
       "    }\n",
       "</style>\n",
       "<table border=\"1\" class=\"dataframe\">\n",
       "  <thead>\n",
       "    <tr style=\"text-align: right;\">\n",
       "      <th></th>\n",
       "      <th>X</th>\n",
       "      <th>Y</th>\n",
       "      <th>Z</th>\n",
       "    </tr>\n",
       "  </thead>\n",
       "  <tbody>\n",
       "    <tr>\n",
       "      <th>0</th>\n",
       "      <td>0</td>\n",
       "      <td>1</td>\n",
       "      <td>0.010372</td>\n",
       "    </tr>\n",
       "    <tr>\n",
       "      <th>1</th>\n",
       "      <td>1</td>\n",
       "      <td>5</td>\n",
       "      <td>0.814773</td>\n",
       "    </tr>\n",
       "    <tr>\n",
       "      <th>2</th>\n",
       "      <td>2</td>\n",
       "      <td>7</td>\n",
       "      <td>0.992898</td>\n",
       "    </tr>\n",
       "  </tbody>\n",
       "</table>\n",
       "</div>"
      ],
      "text/plain": [
       "   X  Y         Z\n",
       "0  0  1  0.010372\n",
       "1  1  5  0.814773\n",
       "2  2  7  0.992898"
      ]
     },
     "execution_count": 48,
     "metadata": {},
     "output_type": "execute_result"
    }
   ],
   "source": [
    "df = pd.DataFrame({'X':x,'Y':y,'Z':z})\n",
    "df.head(3)"
   ]
  },
  {
   "cell_type": "code",
   "execution_count": 60,
   "metadata": {
    "scrolled": true
   },
   "outputs": [
    {
     "data": {
      "image/png": "[encoded data removed]",
      "text/plain": [
       "<Figure size 540x540 with 12 Axes>"
      ]
     },
     "metadata": {},
     "output_type": "display_data"
    }
   ],
   "source": [
    "eda.scatterplot_matrix(df)"
   ]
  },
  {
   "cell_type": "code",
   "execution_count": 25,
   "metadata": {},
   "outputs": [
    {
     "data": {
      "text/plain": [
       "12"
      ]
     },
     "execution_count": 25,
     "metadata": {},
     "output_type": "execute_result"
    }
   ],
   "source": [
    "len(['cold','cold','medium','medium',\n",
    "                                         'hot','hot','hot','hot','medium',\n",
    "                                        'medium','cold','cold'])"
   ]
  },
  {
   "cell_type": "code",
   "execution_count": 35,
   "metadata": {},
   "outputs": [],
   "source": [
    "D1 = {'Month':np.arange(1,13),\n",
    "      'Wether':['cold','cold','medium','medium','hot','hot','hot','hot','medium',\n",
    "                 'medium','cold','cold'],\n",
    "     'rain':['No','No','Sometimes','Sometimes','Sometimes','Yes','Yes','Yes',\n",
    "             'Sometimes','Sometimes','No','No']}\n",
    "df = pd.DataFrame(D1)"
   ]
  },
  {
   "cell_type": "code",
   "execution_count": 36,
   "metadata": {},
   "outputs": [
    {
     "data": {
      "text/html": [
       "<div>\n",
       "<style scoped>\n",
       "    .dataframe tbody tr th:only-of-type {\n",
       "        vertical-align: middle;\n",
       "    }\n",
       "\n",
       "    .dataframe tbody tr th {\n",
       "        vertical-align: top;\n",
       "    }\n",
       "\n",
       "    .dataframe thead th {\n",
       "        text-align: right;\n",
       "    }\n",
       "</style>\n",
       "<table border=\"1\" class=\"dataframe\">\n",
       "  <thead>\n",
       "    <tr style=\"text-align: right;\">\n",
       "      <th></th>\n",
       "      <th>Month</th>\n",
       "      <th>Wether</th>\n",
       "      <th>rain</th>\n",
       "    </tr>\n",
       "  </thead>\n",
       "  <tbody>\n",
       "    <tr>\n",
       "      <th>0</th>\n",
       "      <td>1</td>\n",
       "      <td>cold</td>\n",
       "      <td>N</td>\n",
       "    </tr>\n",
       "    <tr>\n",
       "      <th>1</th>\n",
       "      <td>2</td>\n",
       "      <td>cold</td>\n",
       "      <td>N</td>\n",
       "    </tr>\n",
       "    <tr>\n",
       "      <th>2</th>\n",
       "      <td>3</td>\n",
       "      <td>medium</td>\n",
       "      <td>Sometimes</td>\n",
       "    </tr>\n",
       "  </tbody>\n",
       "</table>\n",
       "</div>"
      ],
      "text/plain": [
       "   Month  Wether       rain\n",
       "0      1    cold          N\n",
       "1      2    cold          N\n",
       "2      3  medium  Sometimes"
      ]
     },
     "execution_count": 36,
     "metadata": {},
     "output_type": "execute_result"
    }
   ],
   "source": [
    "df.head(3)"
   ]
  },
  {
   "cell_type": "code",
   "execution_count": 45,
   "metadata": {},
   "outputs": [
    {
     "name": "stdout",
     "output_type": "stream",
     "text": [
      "Field Month has more than 10 values. Remove it and check.\n"
     ]
    },
    {
     "data": {
      "text/plain": [
       "{'Month': {},\n",
       " 'Wether': {'cold': 4, 'hot': 4, 'medium': 4},\n",
       " 'rain': {'N': 4, 'Sometimes': 5, 'Y': 3}}"
      ]
     },
     "execution_count": 45,
     "metadata": {},
     "output_type": "execute_result"
    }
   ],
   "source": [
    "eda.category_value_distribution(df)"
   ]
  },
  {
   "cell_type": "code",
   "execution_count": null,
   "metadata": {},
   "outputs": [],
   "source": []
  }
 ],
 "metadata": {
  "kernelspec": {
   "display_name": "Python 3",
   "language": "python",
   "name": "python3"
  },
  "language_info": {
   "codemirror_mode": {
    "name": "ipython",
    "version": 3
   },
   "file_extension": ".py",
   "mimetype": "text/x-python",
   "name": "python",
   "nbconvert_exporter": "python",
   "pygments_lexer": "ipython3",
   "version": "3.7.7"
  }
 },
 "nbformat": 4,
 "nbformat_minor": 4
}
